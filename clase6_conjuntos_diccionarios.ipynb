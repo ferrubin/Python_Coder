{
 "cells": [
  {
   "cell_type": "code",
   "execution_count": 1,
   "metadata": {},
   "outputs": [
    {
     "name": "stdout",
     "output_type": "stream",
     "text": [
      "19\n"
     ]
    }
   ],
   "source": [
    "#como contruimos una funcion\n",
    "#numero_1 y numero_2 solo viven dentro de la funcion\n",
    "\n",
    "def mi_funcion(numero_1,numero_2):\n",
    "    resultado = numero_1 + numero_2\n",
    "    return resultado \n",
    "el_resultado = mi_funcion(9,10)\n",
    "print(el_resultado)"
   ]
  },
  {
   "cell_type": "code",
   "execution_count": 2,
   "metadata": {},
   "outputs": [
    {
     "name": "stdout",
     "output_type": "stream",
     "text": [
      "caso 1:  0\n",
      "caso 2:  17\n",
      "caso 3:  -14\n"
     ]
    }
   ],
   "source": [
    "caso_1 = mi_funcion(0,0)\n",
    "caso_2 = mi_funcion(9,8)\n",
    "caso_3 = mi_funcion(-4,-10)\n",
    "\n",
    "print(\"caso 1: \",caso_1)\n",
    "print(\"caso 2: \",caso_2)\n",
    "print(\"caso 3: \",caso_3)"
   ]
  },
  {
   "cell_type": "code",
   "execution_count": 4,
   "metadata": {},
   "outputs": [
    {
     "name": "stdout",
     "output_type": "stream",
     "text": [
      "******************************\n"
     ]
    }
   ],
   "source": [
    "print(\"*\"*30)"
   ]
  },
  {
   "cell_type": "code",
   "execution_count": 5,
   "metadata": {},
   "outputs": [
    {
     "name": "stdout",
     "output_type": "stream",
     "text": [
      "soy numero par\n",
      "soy numero par\n",
      "soy un numero impar\n"
     ]
    }
   ],
   "source": [
    "def par_o_impar(un_numero):\n",
    "    if un_numero %2 == 0:\n",
    "        print(\"soy numero par\")\n",
    "    else:\n",
    "        print(\"soy un numero impar\")\n",
    "\n",
    "caso_a = par_o_impar(4)\n",
    "caso_b = par_o_impar(12)\n",
    "caso_c = par_o_impar(5)"
   ]
  },
  {
   "cell_type": "code",
   "execution_count": 6,
   "metadata": {},
   "outputs": [
    {
     "name": "stdout",
     "output_type": "stream",
     "text": [
      "Mi arbol es un roble\n",
      "La viariable un_string dice: Mi arbol es un roble\n"
     ]
    }
   ],
   "source": [
    "#f string\n",
    "un_string = \"Mi arbol es un roble\"\n",
    "otro_string = f\"La viariable un_string dice: {un_string}\"\n",
    "\n",
    "print(un_string)\n",
    "print(otro_string)"
   ]
  },
  {
   "cell_type": "code",
   "execution_count": 7,
   "metadata": {},
   "outputs": [
    {
     "name": "stdout",
     "output_type": "stream",
     "text": [
      "un helado\n",
      "un helado\n",
      "90\n",
      "dict_keys([1, 2, 'tres'])\n",
      "******************************\n"
     ]
    }
   ],
   "source": [
    "#diccionarios (clave:valor)\n",
    "mi_diccionario = {1:90, 2:\"dos\", \"tres\":\"un helado\"}\n",
    "\n",
    "print(mi_diccionario[\"tres\"])\n",
    "print(mi_diccionario.get(\"tres\")) #get nunca da falla\n",
    "print(mi_diccionario[1])\n",
    "print(mi_diccionario.keys())\n",
    "\n",
    "print(\"*\"*30)"
   ]
  },
  {
   "cell_type": "code",
   "execution_count": 8,
   "metadata": {},
   "outputs": [
    {
     "name": "stdout",
     "output_type": "stream",
     "text": [
      "{}\n",
      "{'uno': 'el primer valor'}\n",
      "{'uno': 'el primer valor', 'dos': 'otro valor'}\n",
      "{'uno': [1, 2, 3, 4], 'dos': 'otro valor'}\n",
      "******************************\n"
     ]
    }
   ],
   "source": [
    "#agregar al diccionario\n",
    "mi_dict = dict()\n",
    "print(mi_dict)\n",
    "\n",
    "mi_dict[\"uno\"] = \"el primer valor\"\n",
    "print(mi_dict)\n",
    "\n",
    "mi_dict[\"dos\"] = \"otro valor\"\n",
    "print(mi_dict)\n",
    "\n",
    "mi_dict[\"uno\"] = [1,2,3,4]\n",
    "print(mi_dict)\n",
    "\n",
    "print(\"*\"*30)"
   ]
  },
  {
   "cell_type": "code",
   "execution_count": 9,
   "metadata": {},
   "outputs": [
    {
     "name": "stdout",
     "output_type": "stream",
     "text": [
      "mi key tres se guardo aca: un helado\n",
      "******************************\n"
     ]
    }
   ],
   "source": [
    "#pop saca una clave y la guarda en una variable\n",
    "guardarlo_aca= mi_diccionario.pop(\"tres\")\n",
    "print(\"mi key tres se guardo aca: \" + str(guardarlo_aca))\n",
    "\n",
    "print(\"*\"*30)"
   ]
  },
  {
   "cell_type": "code",
   "execution_count": 10,
   "metadata": {},
   "outputs": [
    {
     "name": "stdout",
     "output_type": "stream",
     "text": [
      "{}\n",
      "se borro\n",
      "******************************\n"
     ]
    }
   ],
   "source": [
    "#borra diccionario\n",
    "mi_dict.clear()\n",
    "print(mi_dict)\n",
    "print(\"se borro\")\n",
    "\n",
    "print(\"*\"*30)"
   ]
  },
  {
   "cell_type": "code",
   "execution_count": 11,
   "metadata": {},
   "outputs": [
    {
     "name": "stdout",
     "output_type": "stream",
     "text": [
      "41\n"
     ]
    }
   ],
   "source": [
    "#asignacion\n",
    "edades = {\"juan\": 31, \"maria\": 19}\n",
    "edades[\"juan\"]+=10\n",
    "print(edades[\"juan\"])"
   ]
  },
  {
   "cell_type": "code",
   "execution_count": 12,
   "metadata": {},
   "outputs": [
    {
     "name": "stdout",
     "output_type": "stream",
     "text": [
      "{'uno': 1, 'dos': 2, 'tres': 3}\n",
      "******************************\n"
     ]
    }
   ],
   "source": [
    "#como agregar clave valor en un diccionario (no existe el add en diccionarios si en conjuntos)\n",
    "numeros = {\"uno\":1, \"dos\":2}\n",
    "numeros [\"tres\"]=3\n",
    "print (numeros)\n",
    "\n",
    "print(\"*\"*30)"
   ]
  },
  {
   "cell_type": "code",
   "execution_count": 13,
   "metadata": {},
   "outputs": [
    {
     "name": "stdout",
     "output_type": "stream",
     "text": [
      "{'queso_1': 'roque', 'queso_2': 'brie', 'queso_3': 'gruyere', 'fruta_1': 'uva', 'fruta_2': 'datiles'}\n",
      "{'fruta_1': 'uva', 'fruta_2': 'datiles'}\n",
      "el diccionario combinado tiene 5 elementos\n",
      "el diccionario 3 tiene 2 elementos\n",
      "******************************\n"
     ]
    }
   ],
   "source": [
    "#funciones integradas (= metodos)en diccionarios\n",
    "#update\n",
    "\n",
    "mi_dict_2 = {\"queso_1\": \"roque\", \"queso_2\":\"brie\", \"queso_3\": \"gruyere\"}\n",
    "mi_dict_3 = {\"fruta_1\":\"uva\",\"fruta_2\": \"datiles\"}\n",
    "mi_dict_2.update(mi_dict_3)\n",
    "print(mi_dict_2)\n",
    "print(mi_dict_3)\n",
    "\n",
    "print(f\"el diccionario combinado tiene {len(mi_dict_2)} elementos\")\n",
    "\n",
    "print(f\"el diccionario 3 tiene {len(mi_dict_3)} elementos\")\n",
    "\n",
    "print(\"*\"*30)"
   ]
  },
  {
   "cell_type": "code",
   "execution_count": 14,
   "metadata": {},
   "outputs": [
    {
     "name": "stdout",
     "output_type": "stream",
     "text": [
      "si!!!! es una clave en el diccionario\n",
      "nop !!! no es una clave\n",
      "******************************\n"
     ]
    }
   ],
   "source": [
    "#in\n",
    "if \"queso_1\" in mi_dict_2:\n",
    "    print(\"si!!!! es una clave en el diccionario\")\n",
    "else:\n",
    "    print(\"no esta\")\n",
    "    \n",
    "if \"botella\" in mi_dict_2:\n",
    "    print(\" es una clave\")\n",
    "else:\n",
    "    print(\"nop !!! no es una clave\")\n",
    " \n",
    "print(\"*\"*30)"
   ]
  },
  {
   "cell_type": "code",
   "execution_count": 15,
   "metadata": {},
   "outputs": [
    {
     "name": "stdout",
     "output_type": "stream",
     "text": [
      "<class 'set'>\n",
      "<class 'dict'>\n",
      "<class 'set'>\n",
      "<class 'set'>\n",
      "******************************\n"
     ]
    }
   ],
   "source": [
    "#conjuntos, no admiten elementos repetidos\n",
    "mi_conjunto = set()\n",
    "mi_otro_conjunto = {}\n",
    "#llaves con elementos se entiende como conjunto\n",
    "mi_otro_conjunto2 = {1,2,3,4}\n",
    "mi_conjuntos_dsd_una_lista = set([1,2,3,4,5])\n",
    "print(type(mi_conjunto))\n",
    "print(type(mi_otro_conjunto))\n",
    "print(type(mi_otro_conjunto2))\n",
    "print(type(mi_conjuntos_dsd_una_lista))\n",
    "\n",
    "print(\"*\"*30)"
   ]
  },
  {
   "cell_type": "code",
   "execution_count": 16,
   "metadata": {},
   "outputs": [
    {
     "name": "stdout",
     "output_type": "stream",
     "text": [
      "{1, 2, 3}\n",
      "3\n",
      "{1, 2, 3, 90}\n",
      "True\n",
      "False\n",
      "{1, 2, 3, 65, 5, 4, 7, 8, 9, 44, 90}\n"
     ]
    }
   ],
   "source": [
    "#conjunto a partir de lista\n",
    "mi_conjunto2 = set([1,2,3,1,2,3])\n",
    "print(mi_conjunto2)\n",
    "print(len(mi_conjunto2))\n",
    "mi_conjunto2.add(90)\n",
    "print(mi_conjunto2)\n",
    "print(90 in mi_conjunto2)\n",
    "print(80 in mi_conjunto2)\n",
    "\n",
    "mi_conjunto2.update([1,2,3,44,5,65,7,8,9,1,2,4,3,2,4])\n",
    "print(mi_conjunto2)"
   ]
  },
  {
   "cell_type": "code",
   "execution_count": 17,
   "metadata": {},
   "outputs": [
    {
     "name": "stdout",
     "output_type": "stream",
     "text": [
      "{1, 2, 3, 65, 5, 7, 8, 9, 44, 90}\n",
      "{1, 2, 3, 5, 7, 8, 9, 44, 90}\n",
      "set()\n"
     ]
    }
   ],
   "source": [
    "#discard y remove remueven un numero, en caso de no encontrarlo solo remove dara error\n",
    "\n",
    "mi_conjunto2.discard(4)\n",
    "print(mi_conjunto2)\n",
    "\n",
    "mi_conjunto2.remove(65)\n",
    "print(mi_conjunto2)\n",
    "\n",
    "mi_conjunto2.clear()\n",
    "print(mi_conjunto2)"
   ]
  },
  {
   "cell_type": "code",
   "execution_count": null,
   "metadata": {},
   "outputs": [],
   "source": []
  }
 ],
 "metadata": {
  "kernelspec": {
   "display_name": "Python 3 (ipykernel)",
   "language": "python",
   "name": "python3"
  },
  "language_info": {
   "codemirror_mode": {
    "name": "ipython",
    "version": 3
   },
   "file_extension": ".py",
   "mimetype": "text/x-python",
   "name": "python",
   "nbconvert_exporter": "python",
   "pygments_lexer": "ipython3",
   "version": "3.12.1"
  }
 },
 "nbformat": 4,
 "nbformat_minor": 2
}
