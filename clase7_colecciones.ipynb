{
 "cells": [
  {
   "cell_type": "code",
   "execution_count": 1,
   "metadata": {},
   "outputs": [
    {
     "name": "stdout",
     "output_type": "stream",
     "text": [
      "Ejecutando funcion de test, los valores pasados fueron:  jimena jimena@hotmail.com\n",
      "Ejecutando funcion de test, los valores pasados fueron:  juan juan@hotmail.com\n",
      "******************************\n"
     ]
    }
   ],
   "source": [
    "#construir una agenda desde un diccionario. Ejercicio Práctico\n",
    "\n",
    "from os import PRIO_PGRP\n",
    "\n",
    "\n",
    "def test(un_valor,otro_valor):\n",
    "    print(\"Ejecutando funcion de test, los valores pasados fueron: \", un_valor, otro_valor)\n",
    "#invoco la funcion y la ejecuto las veces que se quiera\n",
    "\n",
    "test(\"jimena\", \"jimena@hotmail.com\")\n",
    "test(\"juan\", \"juan@hotmail.com\")\n",
    "\n",
    "print(\"*\"*30)"
   ]
  },
  {
   "cell_type": "code",
   "execution_count": 2,
   "metadata": {},
   "outputs": [
    {
     "name": "stdout",
     "output_type": "stream",
     "text": [
      "******************************\n"
     ]
    }
   ],
   "source": [
    "def mi_funcion(el_mensaje, el_numero):\n",
    "    print(el_mensaje,el_numero)\n",
    "    \n",
    "print(\"*\"*30)"
   ]
  },
  {
   "cell_type": "code",
   "execution_count": 3,
   "metadata": {},
   "outputs": [
    {
     "name": "stdout",
     "output_type": "stream",
     "text": [
      "{}\n"
     ]
    }
   ],
   "source": [
    "def agregar_contacto(nombre, e_mail, una_agenda):\n",
    "    una_agenda[nombre] = e_mail      #clave,valor\n",
    "    return una_agenda                #devuelve una agenda que agrego a agenda\n",
    "\n",
    "agenda = dict()\n",
    "print(agenda)        #esta vacia\n",
    "agenda = agregar_contacto (\"jimena\", \"jimena@gmail.com\", agenda)        #agrego a la agenda pisandola"
   ]
  },
  {
   "cell_type": "code",
   "execution_count": 4,
   "metadata": {},
   "outputs": [],
   "source": [
    "#como agrego un nuevo contacto?\n",
    "agenda = agregar_contacto (\"juan\", \"juan@gmail.com\", agenda)"
   ]
  },
  {
   "cell_type": "code",
   "execution_count": 5,
   "metadata": {},
   "outputs": [
    {
     "name": "stdout",
     "output_type": "stream",
     "text": [
      "{'jimena': 'jimena@gmail.com', 'juan': 'juan@gmail.com'}\n",
      "juan@gmail.com\n",
      "******************************\n"
     ]
    }
   ],
   "source": [
    "print(agenda)\n",
    "print(agenda.get(\"juan\"))\n",
    "\n",
    "print(\"*\"*30)"
   ]
  },
  {
   "cell_type": "code",
   "execution_count": 6,
   "metadata": {},
   "outputs": [
    {
     "name": "stdout",
     "output_type": "stream",
     "text": [
      "juan\n",
      "PEPITO\n",
      "Pedro Y Juan\n",
      "2\n",
      "1\n",
      "0\n",
      "1\n"
     ]
    }
   ],
   "source": [
    "#metodos y colecciones\n",
    "mi_string = \"juan\".lower()\n",
    "print(mi_string)\n",
    "\n",
    "mi_string2 = \"Pepito\".upper()\n",
    "print(mi_string2)\n",
    "\n",
    "mi_string3 = \"pedro y juan\".title()\n",
    "print(mi_string3)\n",
    "\n",
    "mi_string4 = \"Roma y Tremendo\".count(\"e\")\n",
    "print(mi_string4)\n",
    "\n",
    "mi_string4 = \"Roma y Tremendo\".count(\"em\")\n",
    "print(mi_string4)\n",
    "\n",
    "mi_string4 = \"Roma y Tremendo\".count(\"eM\")\n",
    "print(mi_string4)\n",
    "\n",
    "mi_string4 = \"Roma y Tremendo\".count(\"eM\".lower())\n",
    "print(mi_string4)"
   ]
  },
  {
   "cell_type": "code",
   "execution_count": 7,
   "metadata": {},
   "outputs": [
    {
     "name": "stdout",
     "output_type": "stream",
     "text": [
      "1\n",
      "2\n",
      "13\n",
      "['Roma', 'y', 'Tremendo']\n",
      "['Roma ', ' Tremendo']\n",
      "******************************\n"
     ]
    }
   ],
   "source": [
    "mi_string4 = \"Roma y Tremendo\".find(\"o\")\n",
    "print(mi_string4) #vevuelve posicion es como el index para las listas\n",
    "\n",
    "mi_string4 = \"Roma y Tremendo\".find(\"ma\")\n",
    "print(mi_string4)\n",
    "\n",
    "mi_string4 = \"Roma y Tremendo\".rfind(\"d\")\n",
    "print(mi_string4)\n",
    "\n",
    "mi_string4 = \"Roma y Tremendo\".split()\n",
    "print(mi_string4) #OJO devuele lista\n",
    "\n",
    "mi_string4 = \"Roma y Tremendo\".split(\"y\") #usa la y como tijera\n",
    "print(mi_string4)\n",
    "\n",
    "print(\"*\"*30)"
   ]
  },
  {
   "cell_type": "code",
   "execution_count": 8,
   "metadata": {},
   "outputs": [
    {
     "name": "stdout",
     "output_type": "stream",
     "text": [
      "hola\n"
     ]
    }
   ],
   "source": [
    "#borrar caracter\n",
    "espacios = \"---hola---\"\n",
    "espacios2= espacios.strip(\"-\")\n",
    "print(espacios2)"
   ]
  },
  {
   "cell_type": "code",
   "execution_count": 10,
   "metadata": {},
   "outputs": [
    {
     "name": "stdout",
     "output_type": "stream",
     "text": [
      "juan@hotmail.com\n",
      "jimensoy el remplazo@hotmsoy el remplazoil.com\n",
      "******************************\n"
     ]
    }
   ],
   "source": [
    "#replace\n",
    "remplazo = \"jimena@hotmail.com\"\n",
    "remplazo = \"jimena@hotmail.com\".replace(\"jimena\", \"juan\")\n",
    "print(remplazo)\n",
    "remplazo = \"jimena@hotmail.com\".replace(\"a\",\"soy el remplazo\")\n",
    "print(remplazo)\n",
    "\n",
    "print(\"*\"*30)"
   ]
  },
  {
   "cell_type": "code",
   "execution_count": 11,
   "metadata": {},
   "outputs": [
    {
     "name": "stdout",
     "output_type": "stream",
     "text": [
      "[1, 2, 3, 99, 'hola', 'como', 'estas']\n",
      "******************************\n"
     ]
    }
   ],
   "source": [
    "#extend\n",
    "mi_primera_lista = [1,2,3]\n",
    "mi_primera_lista.append(99)\n",
    "mi_segunda_lista = [\"hola\", \"como\",\"estas\"]\n",
    "mi_primera_lista.extend(mi_segunda_lista)\n",
    "print(mi_primera_lista)\n",
    "\n",
    "print(\"*\"*30)"
   ]
  },
  {
   "cell_type": "code",
   "execution_count": 12,
   "metadata": {},
   "outputs": [
    {
     "name": "stdout",
     "output_type": "stream",
     "text": [
      "[1, 2, 3, 'Me insertaron!!!', 99, 'hola', 'como', 'estas']\n"
     ]
    }
   ],
   "source": [
    "#insert\n",
    "mi_primera_lista.insert(3,\"Me insertaron!!!\")\n",
    "print(mi_primera_lista)\n"
   ]
  },
  {
   "cell_type": "code",
   "execution_count": 13,
   "metadata": {},
   "outputs": [
    {
     "name": "stdout",
     "output_type": "stream",
     "text": [
      "******************************\n",
      "['estas', 'como', 'hola', 99, 'Me insertaron!!!', 3, 2, 1]\n"
     ]
    }
   ],
   "source": [
    "#reverse\n",
    "print(\"*\"*30)\n",
    "mi_primera_lista.reverse()\n",
    "print (mi_primera_lista)"
   ]
  },
  {
   "cell_type": "code",
   "execution_count": 14,
   "metadata": {},
   "outputs": [
    {
     "name": "stdout",
     "output_type": "stream",
     "text": [
      "['a', 'alma', 'j', 'perro']\n",
      "['perro', 'j', 'alma', 'a']\n",
      "******************************\n"
     ]
    }
   ],
   "source": [
    "#sort\n",
    "mi_lista_ = [\"a\", \"j\", \"perro\", \"alma\"]\n",
    "mi_lista_.sort()\n",
    "print(mi_lista_)\n",
    "mi_lista_.sort(reverse=True) #ordena al reves\n",
    "print(mi_lista_)\n",
    "\n",
    "print(\"*\"*30)"
   ]
  },
  {
   "cell_type": "code",
   "execution_count": 15,
   "metadata": {},
   "outputs": [
    {
     "name": "stdout",
     "output_type": "stream",
     "text": [
      "False\n",
      "True\n",
      "******************************\n"
     ]
    }
   ],
   "source": [
    "#conjuntos\n",
    "#isdistjoint en conjuntos\n",
    "set1 = {1,2,3}\n",
    "set2 = {3,4,5}\n",
    "resultado = set1.isdisjoint(set2)\n",
    "print(resultado)\n",
    "set1 = {1,2,3}\n",
    "set2 = {4,5}\n",
    "resultado = set1.isdisjoint(set2)\n",
    "print(resultado)\n",
    "\n",
    "print(\"*\"*30)"
   ]
  },
  {
   "cell_type": "code",
   "execution_count": 16,
   "metadata": {},
   "outputs": [
    {
     "name": "stdout",
     "output_type": "stream",
     "text": [
      "True\n",
      "False\n",
      "******************************\n"
     ]
    }
   ],
   "source": [
    "#issubset\n",
    "print({3}.issubset(set1))\n",
    "print({3, \"a\"}.issubset(set1))\n",
    "\n",
    "print(\"*\"*30)\n"
   ]
  },
  {
   "cell_type": "code",
   "execution_count": 17,
   "metadata": {},
   "outputs": [
    {
     "name": "stdout",
     "output_type": "stream",
     "text": [
      "True\n",
      "False\n",
      "******************************\n"
     ]
    }
   ],
   "source": [
    "#issuperset\n",
    "print((set1).issuperset({3}))\n",
    "print((set1).issuperset({3, \"w\"}))\n",
    "\n",
    "print(\"*\"*30)"
   ]
  },
  {
   "cell_type": "code",
   "execution_count": 18,
   "metadata": {},
   "outputs": [
    {
     "name": "stdout",
     "output_type": "stream",
     "text": [
      "{1, 2, 3, 4, 5}\n",
      "******************************\n"
     ]
    }
   ],
   "source": [
    "#unir dos conjuntos\n",
    "print(set1.union(set2))\n",
    "\n",
    "print(\"*\"*30)"
   ]
  },
  {
   "cell_type": "code",
   "execution_count": 19,
   "metadata": {},
   "outputs": [
    {
     "name": "stdout",
     "output_type": "stream",
     "text": [
      "{89, 5}\n",
      "******************************\n"
     ]
    }
   ],
   "source": [
    "#intersection\n",
    "a = {1,2,3,4,5,6,89}\n",
    "b = {5,9,12,56,89}\n",
    "print(a.intersection(b))\n",
    "\n",
    "print(\"*\"*30)"
   ]
  },
  {
   "cell_type": "code",
   "execution_count": 20,
   "metadata": {},
   "outputs": [
    {
     "name": "stdout",
     "output_type": "stream",
     "text": [
      "dict_keys([1, 2, 3])\n",
      "----------\n"
     ]
    }
   ],
   "source": [
    "#keys diccionarios\n",
    "diccionario = {1:\"juan\", 2:\"pedro\", 3:\"emilia\"}\n",
    "print(diccionario.keys())\n",
    "print(\"-\"*10)   "
   ]
  },
  {
   "cell_type": "code",
   "execution_count": 21,
   "metadata": {},
   "outputs": [
    {
     "name": "stdout",
     "output_type": "stream",
     "text": [
      "dict_values(['juan', 'pedro', 'emilia'])\n",
      "----------\n"
     ]
    }
   ],
   "source": [
    "#values\n",
    "print(diccionario.values())\n",
    "print(\"-\"*10)   \n"
   ]
  },
  {
   "cell_type": "code",
   "execution_count": 22,
   "metadata": {},
   "outputs": [
    {
     "name": "stdout",
     "output_type": "stream",
     "text": [
      "1\n",
      "2\n",
      "3\n",
      "----------\n",
      "(1, 'juan')\n",
      "(2, 'pedro')\n",
      "(3, 'emilia')\n",
      "----------\n",
      "la clave es: 1\n",
      "el valor es: juan\n",
      "la clave es: 2\n",
      "el valor es: pedro\n",
      "la clave es: 3\n",
      "el valor es: emilia\n"
     ]
    }
   ],
   "source": [
    "#items\n",
    "for elemento in diccionario:\n",
    "    print(elemento)\n",
    " \n",
    "print(\"-\"*10)  \n",
    " \n",
    "for elemento in diccionario.items():\n",
    "    print(elemento) \n",
    "\n",
    "print(\"-\"*10)   \n",
    "    \n",
    "for clave, valor in diccionario.items():\n",
    "    print(\"la clave es: \" + str(clave))\n",
    "    print(\"el valor es: \" + str(valor))"
   ]
  },
  {
   "cell_type": "code",
   "execution_count": 23,
   "metadata": {},
   "outputs": [
    {
     "name": "stdout",
     "output_type": "stream",
     "text": [
      "--------------AFTER AGENDA-------------------\n"
     ]
    }
   ],
   "source": [
    "print(\"--------------AFTER AGENDA-------------------\")      \n",
    "#after agenda\n",
    "mi_agenda = {}\n",
    "mi_agenda [\"nombre\"] = \"joaquin\""
   ]
  },
  {
   "cell_type": "code",
   "execution_count": 24,
   "metadata": {},
   "outputs": [
    {
     "name": "stdout",
     "output_type": "stream",
     "text": [
      "joaquin\n",
      "no lo encuentro\n"
     ]
    }
   ],
   "source": [
    "#buscar por valor\n",
    "print(mi_agenda.get(\"nombre\"))\n",
    "print(mi_agenda.get(\"jijijiji\",\"no lo encuentro\"))\n"
   ]
  },
  {
   "cell_type": "code",
   "execution_count": 25,
   "metadata": {},
   "outputs": [
    {
     "name": "stdout",
     "output_type": "stream",
     "text": [
      "el dato borrado es: joaquin y te lo guarde en la variable\n"
     ]
    }
   ],
   "source": [
    "#eliminar\n",
    "#del mi_agenda[\"nombre\"]\n",
    "#print(mi_agenda)\n",
    "\n",
    "dato_borrado = mi_agenda.pop(\"nombre\") #pop devuelve\n",
    "print(f\"el dato borrado es: {dato_borrado} y te lo guarde en la variable\")"
   ]
  },
  {
   "cell_type": "code",
   "execution_count": 26,
   "metadata": {},
   "outputs": [
    {
     "name": "stdout",
     "output_type": "stream",
     "text": [
      "False\n",
      "{'Joaquin': 'joaco@gmail.com'}\n",
      "borre correctamente el dato: joaco@gmail.com que corresponde a la clave Joaquin\n",
      "{}\n"
     ]
    }
   ],
   "source": [
    "#consultar mail solo sabiendo su nombre (clave)\n",
    "def consulta_agenda(nombre, agenda = {}):\n",
    "    return agenda.get(nombre, False)\n",
    " \n",
    "print(consulta_agenda(agenda = mi_agenda, nombre = \"Joaquin\"))  \n",
    "def agregar_contacto(agenda, nombre, email):\n",
    "    agenda[nombre]= email #clave valor\n",
    "    return agenda\n",
    "\n",
    "mi_agenda = agregar_contacto (mi_agenda, \"Joaquin\", \"joaco@gmail.com\") \n",
    "print(mi_agenda)\n",
    "\n",
    "def borrar_contacto (agenda, nombre):\n",
    "    dato_borradito = agenda.pop(nombre)\n",
    "    print(f\"borre correctamente el dato: {dato_borradito} que corresponde a la clave {nombre}\")\n",
    "    return agenda\n",
    "\n",
    "mi_agenda = borrar_contacto(mi_agenda,\"Joaquin\")\n",
    "print(mi_agenda)"
   ]
  },
  {
   "cell_type": "code",
   "execution_count": 27,
   "metadata": {},
   "outputs": [
    {
     "name": "stdout",
     "output_type": "stream",
     "text": [
      "{'Marco': 'Marco@gmail.com', 'Mariana': 'mari@gmail.com'}\n",
      "MarcoTieneNuevo@gmail.com\n"
     ]
    }
   ],
   "source": [
    "#modificar el emal\n",
    "def modifica_contacto(agenda, nombre, nuevo_email):\n",
    "    agenda[nombre]=nuevo_email\n",
    "    return agenda\n",
    "\n",
    "mi_agenda = agregar_contacto (mi_agenda, \"Marco\", \"Marco@gmail.com\") \n",
    "mi_agenda = agregar_contacto (mi_agenda, \"Mariana\", \"mari@gmail.com\") \n",
    "\n",
    "print(mi_agenda)\n",
    "mi_agenda = modifica_contacto (mi_agenda, \"Marco\", \"MarcoTieneNuevo@gmail.com\")\n",
    "print(consulta_agenda(\"Marco\", mi_agenda))"
   ]
  },
  {
   "cell_type": "code",
   "execution_count": 28,
   "metadata": {},
   "outputs": [
    {
     "name": "stdout",
     "output_type": "stream",
     "text": [
      "{'Mariana': 'mari@gmail.com', 'MarcosSoyElNuevoNombre': 'MarcoTieneNuevo@gmail.com'}\n"
     ]
    }
   ],
   "source": [
    "#modificar la clave\n",
    "def modicar_clave_agenda(agenda, nombre, nuevo_nombre):\n",
    "    dato = agenda.pop(nombre)\n",
    "    agenda[nuevo_nombre]=dato\n",
    "    return agenda\n",
    "mi_agenda = modicar_clave_agenda(mi_agenda, \"Marco\", \"MarcosSoyElNuevoNombre\")\n",
    "print(mi_agenda)"
   ]
  }
 ],
 "metadata": {
  "kernelspec": {
   "display_name": "Python 3 (ipykernel)",
   "language": "python",
   "name": "python3"
  },
  "language_info": {
   "codemirror_mode": {
    "name": "ipython",
    "version": 3
   },
   "file_extension": ".py",
   "mimetype": "text/x-python",
   "name": "python",
   "nbconvert_exporter": "python",
   "pygments_lexer": "ipython3",
   "version": "3.12.1"
  }
 },
 "nbformat": 4,
 "nbformat_minor": 2
}
