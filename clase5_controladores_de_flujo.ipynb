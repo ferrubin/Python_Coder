{
 "cells": [
  {
   "cell_type": "code",
   "execution_count": 1,
   "metadata": {},
   "outputs": [
    {
     "name": "stderr",
     "output_type": "stream",
     "text": [
      "/tmp/ipykernel_20752/3585127275.py:3: DeprecationWarning: 'cgitb' is deprecated and slated for removal in Python 3.13\n",
      "  from cgitb import text\n"
     ]
    }
   ],
   "source": [
    "#test casos de prueba par mayor a 18 imprimir A, impar y multiplo de 3 imprimi b otro caso imprimir valos no reconocido\n",
    "\n",
    "from cgitb import text\n",
    "from unittest import result\n"
   ]
  },
  {
   "cell_type": "code",
   "execution_count": 3,
   "metadata": {},
   "outputs": [],
   "source": [
    "mi_numero = 0\n",
    "valor_esperado = \"valor no reconocido\"\n",
    "\n",
    "mi_numero = 1\n",
    "valor_esperado = \"valor no reconocido\"\n",
    "\n",
    "mi_numero = 35\n",
    "valor_esperado = \"valor no reconocido\"\n",
    "\n",
    "mi_numero = 2\n",
    "valor_esperado = \"valor no reconocido\"\n",
    "\n",
    "mi_numero = 20\n",
    "valor_esperado = \"A\"\n",
    "\n",
    "mi_numero = 9\n",
    "valor_esperado = \"B\"\n",
    "\n",
    "mi_numero = 6\n",
    "valor_esperado = \"valor no reconocido\""
   ]
  },
  {
   "cell_type": "code",
   "execution_count": 4,
   "metadata": {},
   "outputs": [
    {
     "name": "stdout",
     "output_type": "stream",
     "text": [
      ".....3.....\n"
     ]
    }
   ],
   "source": [
    "#mi programa\n",
    "\n",
    "if (mi_numero % 2 == 0 and mi_numero > 18):\n",
    "    print(\".....1.....\")\n",
    "    resultado = \"A\"\n",
    "elif (mi_numero %2 !=0) and (mi_numero %3 == 0):\n",
    "    print(\".....2.....\")\n",
    "    resultado = \"B\"\n",
    "else: \n",
    "    print(\".....3.....\")\n",
    "    resultado = \"valor no reconocido\""
   ]
  },
  {
   "cell_type": "code",
   "execution_count": 5,
   "metadata": {},
   "outputs": [
    {
     "name": "stdout",
     "output_type": "stream",
     "text": [
      "mi numero es: 6\n",
      "mi valor esperado es: valor no reconocido\n",
      "termine OK\n"
     ]
    }
   ],
   "source": [
    "#test\n",
    "print(\"mi numero es: \" + str(mi_numero))\n",
    "print(\"mi valor esperado es: \" + str\n",
    "(valor_esperado))\n",
    "assert resultado == valor_esperado\n",
    "\n",
    "print (\"termine OK\")"
   ]
  },
  {
   "cell_type": "code",
   "execution_count": 6,
   "metadata": {},
   "outputs": [
    {
     "name": "stdout",
     "output_type": "stream",
     "text": [
      "1\n"
     ]
    }
   ],
   "source": [
    "#while (mientras- acccion que se deja de ejecutar cuando se cumple determinada condicion, pero no sabemos cuando va a suceder)y for (para-sabemos la cantidad de elementos ej el 5to en la lista)\n",
    "\n",
    "mi_numero = 0\n",
    "mi_numero += 1\n",
    "print(mi_numero)"
   ]
  },
  {
   "cell_type": "code",
   "execution_count": 7,
   "metadata": {},
   "outputs": [
    {
     "name": "stdout",
     "output_type": "stream",
     "text": [
      "******** 1\n",
      "******** 2\n",
      "******** 3\n",
      "******** 4\n",
      "******** 5\n",
      "******** 6\n",
      "******** 7\n",
      "******** 8\n",
      "******** 9\n",
      "soy el ciclo while y mi numero es: 10\n"
     ]
    }
   ],
   "source": [
    "while mi_numero < 10:\n",
    "    print(\"********\", mi_numero)\n",
    "    mi_numero += 1\n",
    "#el else no es necesario\n",
    "else:\n",
    "    print (\"soy el ciclo while y mi numero es: \" + str(mi_numero))\n",
    "    \n",
    "#while con breack   \n",
    "while mi_numero < 10:\n",
    "    print(\"********\", mi_numero)\n",
    "    mi_numero += 1\n",
    "    if mi_numero == 4:\n",
    "        print (\"soy el ciclo while y mi numero es: \" + str(mi_numero))"
   ]
  },
  {
   "cell_type": "code",
   "execution_count": 8,
   "metadata": {},
   "outputs": [
    {
     "name": "stdout",
     "output_type": "stream",
     "text": [
      "******************************\n"
     ]
    }
   ],
   "source": [
    "print(\"*\" *30)       "
   ]
  },
  {
   "cell_type": "code",
   "execution_count": 9,
   "metadata": {},
   "outputs": [
    {
     "name": "stdout",
     "output_type": "stream",
     "text": [
      "no hay mas posibilidad de intentos\n"
     ]
    }
   ],
   "source": [
    "#while con input\n",
    "intento1 = 1\n",
    "while intento1 >= 3:\n",
    "    input (\"escribi cualquier cosa : \")  \n",
    "    print(intento1)\n",
    "    intento1 += 1\n",
    "else:\n",
    "    print(\"no hay mas posibilidad de intentos\")"
   ]
  },
  {
   "cell_type": "code",
   "execution_count": 10,
   "metadata": {},
   "outputs": [
    {
     "name": "stdout",
     "output_type": "stream",
     "text": [
      "******************************\n"
     ]
    }
   ],
   "source": [
    "print(\"*\" *30)  "
   ]
  },
  {
   "cell_type": "code",
   "execution_count": 19,
   "metadata": {},
   "outputs": [
    {
     "name": "stdout",
     "output_type": "stream",
     "text": [
      "1\n",
      "a\n",
      "3\n"
     ]
    }
   ],
   "source": [
    "#for\n",
    "mi_lista = [1, \"a\", 3, True, \"Fernando\"]\n",
    "for elemento in mi_lista:\n",
    "    print(elemento)\n",
    "    if elemento == 3:\n",
    "        break"
   ]
  },
  {
   "cell_type": "code",
   "execution_count": 12,
   "metadata": {},
   "outputs": [
    {
     "name": "stdout",
     "output_type": "stream",
     "text": [
      "******************************\n"
     ]
    }
   ],
   "source": [
    "print(\"*\" *30)  \n"
   ]
  },
  {
   "cell_type": "code",
   "execution_count": 22,
   "metadata": {},
   "outputs": [
    {
     "name": "stdout",
     "output_type": "stream",
     "text": [
      "0 1\n",
      "1 a\n",
      "2 3\n",
      "3 True\n",
      "4 Fernando\n"
     ]
    }
   ],
   "source": [
    "#enumerate trae el indice del elemento    \n",
    "mi_lista = [1, \"a\", 3, True, \"Fernando\"]\n",
    "for indice, elemento in enumerate(mi_lista):\n",
    "    print (indice,elemento )"
   ]
  },
  {
   "cell_type": "code",
   "execution_count": 14,
   "metadata": {},
   "outputs": [
    {
     "name": "stdout",
     "output_type": "stream",
     "text": [
      "******************************\n"
     ]
    }
   ],
   "source": [
    "print(\"*\" *30)  "
   ]
  },
  {
   "cell_type": "code",
   "execution_count": 23,
   "metadata": {},
   "outputs": [
    {
     "name": "stdout",
     "output_type": "stream",
     "text": [
      "(0, 1)\n",
      "(1, 'a')\n",
      "(2, 3)\n",
      "(3, True)\n",
      "(4, 'Fernando')\n"
     ]
    }
   ],
   "source": [
    "#trae el indice y devuelve una tupla\n",
    "mi_lista2 = [1, \"a\", 3, True, \"Fernando\"]\n",
    "for elemento in enumerate(mi_lista2):\n",
    "    print (elemento )"
   ]
  },
  {
   "cell_type": "code",
   "execution_count": 24,
   "metadata": {},
   "outputs": [
    {
     "name": "stdout",
     "output_type": "stream",
     "text": [
      "1\n",
      "a\n",
      "3\n",
      "soy un mensajito\n",
      "termino el bloque\n",
      "True\n",
      "Fernando\n"
     ]
    }
   ],
   "source": [
    "#continue\n",
    "mi_lista3 = [1, \"a\", 3, True, \"Fernando\"]\n",
    "for elemento in mi_lista3:\n",
    "    print (elemento )  \n",
    "    if elemento == 3:\n",
    "        print(\"soy un mensajito\")  \n",
    "    else:\n",
    "        continue\n",
    "    print(\"termino el bloque\")\n",
    "    "
   ]
  },
  {
   "cell_type": "code",
   "execution_count": 26,
   "metadata": {},
   "outputs": [
    {
     "name": "stdout",
     "output_type": "stream",
     "text": [
      "Agostaste intentos\n"
     ]
    }
   ],
   "source": [
    "intento = 1\n",
    "while intento <= 3:\n",
    "    texto = input(\"escribe si: \")\n",
    "    if texto == \"SI\":\n",
    "        print(\"ok, lo conseguiste en el intento: \", intento)\n",
    "        break\n",
    "    intento += 1\n",
    "else:\n",
    "        print(\"Agostaste intentos\")"
   ]
  },
  {
   "cell_type": "code",
   "execution_count": 27,
   "metadata": {},
   "outputs": [
    {
     "name": "stdout",
     "output_type": "stream",
     "text": [
      "\n",
      "HH\n",
      "oo\n",
      "ll\n",
      "aa\n",
      "  \n",
      "MM\n",
      "uu\n",
      "nn\n",
      "dd\n",
      "oo\n",
      ",,\n",
      "  \n",
      "ee\n",
      "ss\n",
      "tt\n",
      "oo\n",
      "yy\n",
      "  \n",
      "uu\n",
      "ss\n",
      "aa\n",
      "nn\n",
      "dd\n",
      "oo\n",
      "  \n",
      "uu\n",
      "nn\n",
      "  \n",
      "ff\n",
      "oo\n",
      "rr\n",
      "  \n",
      "ee\n",
      "nn\n",
      "  \n",
      "PP\n",
      "yy\n",
      "tt\n",
      "hh\n",
      "oo\n",
      "nn\n"
     ]
    }
   ],
   "source": [
    "texto1= \"Hola Mundo, estoy usando un for en Python\"\n",
    "texto2 = \"\"\n",
    "for letra in texto1:\n",
    "    print(texto2)\n",
    "    texto2 = letra * 2\n",
    "    \n",
    "print(texto2)"
   ]
  },
  {
   "cell_type": "code",
   "execution_count": 21,
   "metadata": {},
   "outputs": [
    {
     "name": "stdout",
     "output_type": "stream",
     "text": [
      "******************************\n"
     ]
    }
   ],
   "source": [
    "print(\"*\" *30) "
   ]
  },
  {
   "cell_type": "code",
   "execution_count": 28,
   "metadata": {},
   "outputs": [
    {
     "name": "stdout",
     "output_type": "stream",
     "text": [
      "0\n",
      "1\n",
      "2\n",
      "3\n",
      "4\n",
      "5\n",
      "6\n",
      "7\n",
      "8\n",
      "9\n",
      "******************************\n"
     ]
    }
   ],
   "source": [
    "#range generar rangos\n",
    "#de 0 hasta el final -1\n",
    "for numero in range(10):\n",
    "    print(numero)\n",
    "\n",
    "print(\"*\" *30) "
   ]
  },
  {
   "cell_type": "code",
   "execution_count": 30,
   "metadata": {},
   "outputs": [
    {
     "name": "stdout",
     "output_type": "stream",
     "text": [
      "0\n",
      "1\n",
      "2\n",
      "3\n",
      "4\n",
      "5\n",
      "6\n",
      "7\n",
      "8\n",
      "9\n",
      "10\n"
     ]
    }
   ],
   "source": [
    "for numero1 in range(11):\n",
    "    print(numero1)  "
   ]
  },
  {
   "cell_type": "code",
   "execution_count": 31,
   "metadata": {},
   "outputs": [
    {
     "name": "stdout",
     "output_type": "stream",
     "text": [
      "******************************\n"
     ]
    }
   ],
   "source": [
    "print(\"*\" *30)      "
   ]
  },
  {
   "cell_type": "code",
   "execution_count": 32,
   "metadata": {},
   "outputs": [
    {
     "name": "stdout",
     "output_type": "stream",
     "text": [
      "11\n",
      "12\n",
      "13\n",
      "14\n",
      "15\n",
      "16\n",
      "17\n",
      "18\n",
      "19\n",
      "20\n",
      "21\n"
     ]
    }
   ],
   "source": [
    "#range con (inicio, fin) desde el numero que se le indica hasta fin -1\n",
    "for numero2 in range(11,22):\n",
    "    print(numero2) "
   ]
  },
  {
   "cell_type": "code",
   "execution_count": 33,
   "metadata": {},
   "outputs": [
    {
     "name": "stdout",
     "output_type": "stream",
     "text": [
      "******************************\n"
     ]
    }
   ],
   "source": [
    "print(\"*\" *30)   "
   ]
  },
  {
   "cell_type": "code",
   "execution_count": 34,
   "metadata": {},
   "outputs": [
    {
     "name": "stdout",
     "output_type": "stream",
     "text": [
      "33\n",
      "35\n",
      "37\n",
      "39\n",
      "41\n",
      "43\n"
     ]
    }
   ],
   "source": [
    "#range(inicio, fin, paso)\n",
    "for numero3 in range(33,44,2):\n",
    "    print(numero3)  "
   ]
  }
 ],
 "metadata": {
  "kernelspec": {
   "display_name": "Python 3 (ipykernel)",
   "language": "python",
   "name": "python3"
  },
  "language_info": {
   "codemirror_mode": {
    "name": "ipython",
    "version": 3
   },
   "file_extension": ".py",
   "mimetype": "text/x-python",
   "name": "python",
   "nbconvert_exporter": "python",
   "pygments_lexer": "ipython3",
   "version": "3.12.1"
  }
 },
 "nbformat": 4,
 "nbformat_minor": 2
}
