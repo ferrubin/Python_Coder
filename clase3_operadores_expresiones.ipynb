{
 "cells": [
  {
   "cell_type": "code",
   "execution_count": 1,
   "metadata": {},
   "outputs": [
    {
     "name": "stdout",
     "output_type": "stream",
     "text": [
      "True\n"
     ]
    }
   ],
   "source": [
    "mi_booleano = True\n",
    "print(mi_booleano)"
   ]
  },
  {
   "cell_type": "code",
   "execution_count": 2,
   "metadata": {},
   "outputs": [
    {
     "name": "stdout",
     "output_type": "stream",
     "text": [
      "False\n"
     ]
    }
   ],
   "source": [
    "# negacion\n",
    "print(not mi_booleano)"
   ]
  },
  {
   "cell_type": "code",
   "execution_count": 3,
   "metadata": {},
   "outputs": [
    {
     "name": "stdout",
     "output_type": "stream",
     "text": [
      "False\n"
     ]
    }
   ],
   "source": [
    "mi_booleano2 = False\n",
    "print(mi_booleano2)"
   ]
  },
  {
   "cell_type": "code",
   "execution_count": 4,
   "metadata": {},
   "outputs": [
    {
     "name": "stdout",
     "output_type": "stream",
     "text": [
      "False\n"
     ]
    }
   ],
   "source": [
    "comparacion = mi_booleano == \"Hola\"\n",
    "print(comparacion)"
   ]
  },
  {
   "cell_type": "code",
   "execution_count": 5,
   "metadata": {},
   "outputs": [
    {
     "name": "stdout",
     "output_type": "stream",
     "text": [
      "False\n"
     ]
    }
   ],
   "source": [
    "comparacion2 = 1+1 == 3\n",
    "print(comparacion2)"
   ]
  },
  {
   "cell_type": "code",
   "execution_count": 6,
   "metadata": {},
   "outputs": [
    {
     "name": "stdout",
     "output_type": "stream",
     "text": [
      "True\n"
     ]
    }
   ],
   "source": [
    "comparacion3 = 1+1 == 2\n",
    "print(comparacion3)"
   ]
  },
  {
   "cell_type": "code",
   "execution_count": 7,
   "metadata": {},
   "outputs": [
    {
     "name": "stdout",
     "output_type": "stream",
     "text": [
      "True\n"
     ]
    }
   ],
   "source": [
    "comparacion4 = comparacion2 != comparacion3\n",
    "print(comparacion4)"
   ]
  },
  {
   "cell_type": "code",
   "execution_count": 8,
   "metadata": {},
   "outputs": [
    {
     "name": "stdout",
     "output_type": "stream",
     "text": [
      "False\n"
     ]
    }
   ],
   "source": [
    "mayor = 5 > 6\n",
    "print(mayor)"
   ]
  },
  {
   "cell_type": "code",
   "execution_count": 9,
   "metadata": {},
   "outputs": [
    {
     "name": "stdout",
     "output_type": "stream",
     "text": [
      "True\n"
     ]
    }
   ],
   "source": [
    "mayor_igual = 6 >= 6\n",
    "print(mayor_igual)"
   ]
  },
  {
   "cell_type": "code",
   "execution_count": 10,
   "metadata": {},
   "outputs": [
    {
     "name": "stdout",
     "output_type": "stream",
     "text": [
      "************************************************************\n"
     ]
    }
   ],
   "source": [
    "print(\"*\"*60)"
   ]
  },
  {
   "cell_type": "code",
   "execution_count": 11,
   "metadata": {},
   "outputs": [
    {
     "name": "stdout",
     "output_type": "stream",
     "text": [
      "True\n"
     ]
    }
   ],
   "source": [
    "# comparar strings\n",
    "comparar_string = \"Jimena\" == \"Jimena\"\n",
    "print(comparar_string)"
   ]
  },
  {
   "cell_type": "code",
   "execution_count": 13,
   "metadata": {},
   "outputs": [
    {
     "name": "stdout",
     "output_type": "stream",
     "text": [
      "False\n"
     ]
    }
   ],
   "source": [
    "comparar_string1 = \"Fernando\" == \"fernando\"\n",
    "print(comparar_string1)"
   ]
  },
  {
   "cell_type": "code",
   "execution_count": 14,
   "metadata": {},
   "outputs": [
    {
     "name": "stdout",
     "output_type": "stream",
     "text": [
      "True\n"
     ]
    }
   ],
   "source": [
    "comparar_string2 = \"Fernando\".lower() == \"fernando\"\n",
    "print(comparar_string2)"
   ]
  },
  {
   "cell_type": "code",
   "execution_count": 15,
   "metadata": {},
   "outputs": [
    {
     "name": "stdout",
     "output_type": "stream",
     "text": [
      "************************************************************\n"
     ]
    }
   ],
   "source": [
    "print(\"*\"*60)"
   ]
  },
  {
   "cell_type": "code",
   "execution_count": 16,
   "metadata": {},
   "outputs": [
    {
     "name": "stdout",
     "output_type": "stream",
     "text": [
      "2\n"
     ]
    }
   ],
   "source": [
    "# True es 1 False es 0\n",
    "suma = True + 1\n",
    "print(suma)"
   ]
  },
  {
   "cell_type": "code",
   "execution_count": 17,
   "metadata": {},
   "outputs": [
    {
     "name": "stdout",
     "output_type": "stream",
     "text": [
      "3\n"
     ]
    }
   ],
   "source": [
    "suma2 = False + 3\n",
    "print(suma2)"
   ]
  },
  {
   "cell_type": "code",
   "execution_count": 18,
   "metadata": {},
   "outputs": [
    {
     "name": "stdout",
     "output_type": "stream",
     "text": [
      "5\n"
     ]
    }
   ],
   "source": [
    "multiplicar = True * 5\n",
    "print(multiplicar)"
   ]
  },
  {
   "cell_type": "code",
   "execution_count": 19,
   "metadata": {},
   "outputs": [
    {
     "name": "stdout",
     "output_type": "stream",
     "text": [
      "[False]\n"
     ]
    }
   ],
   "source": [
    "mi_expresion_en_una_lista = [1 == 2]\n",
    "print(mi_expresion_en_una_lista)"
   ]
  },
  {
   "cell_type": "code",
   "execution_count": 20,
   "metadata": {},
   "outputs": [
    {
     "name": "stdout",
     "output_type": "stream",
     "text": [
      "[False, False, False]\n"
     ]
    }
   ],
   "source": [
    "mi_expresion_en_una_lista = [1 == 2, \"jimena\" == \"Gisele\", False > True]\n",
    "print(mi_expresion_en_una_lista)"
   ]
  },
  {
   "cell_type": "code",
   "execution_count": 21,
   "metadata": {},
   "outputs": [
    {
     "name": "stdout",
     "output_type": "stream",
     "text": [
      "True\n"
     ]
    }
   ],
   "source": [
    "#operador OR (alguna es verdadera?)\n",
    "operador_or = True or False\n",
    "print(operador_or)"
   ]
  },
  {
   "cell_type": "code",
   "execution_count": 22,
   "metadata": {},
   "outputs": [
    {
     "name": "stdout",
     "output_type": "stream",
     "text": [
      "False\n"
     ]
    }
   ],
   "source": [
    "operador_or = False or False\n",
    "print(operador_or)"
   ]
  },
  {
   "cell_type": "code",
   "execution_count": 23,
   "metadata": {},
   "outputs": [
    {
     "name": "stdout",
     "output_type": "stream",
     "text": [
      "True\n"
     ]
    }
   ],
   "source": [
    "operador_or = 1==1 or 2==2\n",
    "print(operador_or)"
   ]
  },
  {
   "cell_type": "code",
   "execution_count": 24,
   "metadata": {},
   "outputs": [
    {
     "name": "stdout",
     "output_type": "stream",
     "text": [
      "True\n"
     ]
    }
   ],
   "source": [
    "operador_or = 1==1 or 2==3\n",
    "print(operador_or)"
   ]
  },
  {
   "cell_type": "code",
   "execution_count": 25,
   "metadata": {},
   "outputs": [
    {
     "name": "stdout",
     "output_type": "stream",
     "text": [
      "False\n"
     ]
    }
   ],
   "source": [
    "operador_or = 10==1 or 20==2\n",
    "print(operador_or)"
   ]
  },
  {
   "cell_type": "code",
   "execution_count": 26,
   "metadata": {},
   "outputs": [
    {
     "name": "stdout",
     "output_type": "stream",
     "text": [
      "True\n"
     ]
    }
   ],
   "source": [
    "operador_or = 10==1 or not 20==2\n",
    "print(operador_or)"
   ]
  },
  {
   "cell_type": "code",
   "execution_count": 27,
   "metadata": {},
   "outputs": [
    {
     "name": "stdout",
     "output_type": "stream",
     "text": [
      "False\n"
     ]
    }
   ],
   "source": [
    "#operador AND \n",
    "operador_or = True and False\n",
    "print(operador_or)"
   ]
  },
  {
   "cell_type": "code",
   "execution_count": 28,
   "metadata": {},
   "outputs": [
    {
     "name": "stdout",
     "output_type": "stream",
     "text": [
      "False\n"
     ]
    }
   ],
   "source": [
    "operador_or = False and False\n",
    "print(operador_or)"
   ]
  },
  {
   "cell_type": "code",
   "execution_count": 29,
   "metadata": {},
   "outputs": [
    {
     "name": "stdout",
     "output_type": "stream",
     "text": [
      "True\n"
     ]
    }
   ],
   "source": [
    "operador_or = 1==1 and 2==2\n",
    "print(operador_or)"
   ]
  },
  {
   "cell_type": "code",
   "execution_count": 30,
   "metadata": {},
   "outputs": [
    {
     "name": "stdout",
     "output_type": "stream",
     "text": [
      "False\n"
     ]
    }
   ],
   "source": [
    "operador_or = 1==1 and 2==3\n",
    "print(operador_or)"
   ]
  },
  {
   "cell_type": "code",
   "execution_count": 31,
   "metadata": {},
   "outputs": [
    {
     "name": "stdout",
     "output_type": "stream",
     "text": [
      "False\n"
     ]
    }
   ],
   "source": [
    "operador_or = 10==1 and 20==2\n",
    "print(operador_or)"
   ]
  },
  {
   "cell_type": "code",
   "execution_count": 32,
   "metadata": {},
   "outputs": [
    {
     "name": "stdout",
     "output_type": "stream",
     "text": [
      "False\n"
     ]
    }
   ],
   "source": [
    "operador_or = 10==1 and not 20==2\n",
    "print(operador_or)"
   ]
  },
  {
   "cell_type": "code",
   "execution_count": 33,
   "metadata": {},
   "outputs": [],
   "source": [
    "#ejemplo ejerciocio. Sumar los elementos de una lista y agregarlo\n",
    "\n",
    "datos = [\n",
    "    [1,5,1],\n",
    "    [2,1,2],\n",
    "    [3,0,1],\n",
    "    [1,4,4]\n",
    "]"
   ]
  },
  {
   "cell_type": "code",
   "execution_count": 34,
   "metadata": {},
   "outputs": [
    {
     "name": "stdout",
     "output_type": "stream",
     "text": [
      "[[1, 5, 1, 7], [2, 1, 2], [3, 0, 1], [1, 4, 4]]\n",
      "[[1, 5, 1, 7], [2, 1, 2, 5], [3, 0, 1], [1, 4, 4]]\n",
      "[[1, 5, 1, 7], [2, 1, 2, 5], [3, 0, 1, 4], [1, 4, 4]]\n",
      "[[1, 5, 1, 7], [2, 1, 2, 5], [3, 0, 1, 4], [1, 4, 4, 9]]\n"
     ]
    }
   ],
   "source": [
    "#solucion 1\n",
    "#imprime la primera lista de la lista\n",
    "#(datos[0].append(\"agrego la suma calculada en mi cerebro\"))\n",
    "#print(datos)\n",
    "\n",
    "#solucion2\n",
    "(datos[0]).append(sum(datos[0]))\n",
    "print(datos)\n",
    "(datos[1]).append(sum(datos[1]))\n",
    "print(datos)\n",
    "(datos[2]).append(sum(datos[2]))\n",
    "print(datos)\n",
    "(datos[3]).append(sum(datos[3]))\n",
    "print(datos)"
   ]
  },
  {
   "cell_type": "code",
   "execution_count": 37,
   "metadata": {},
   "outputs": [
    {
     "name": "stdout",
     "output_type": "stream",
     "text": [
      "[[1, 5, 1, 7, 14], [2, 1, 2, 5, 10], [3, 0, 1, 4, 8], [1, 4, 4, 9, 18]]\n"
     ]
    }
   ],
   "source": [
    "#otra solución\n",
    "#Este programa agrega a la lista con listas anidadas, un cuarto elemento que es el resultado de sumar los tres primeros.\n",
    " \n",
    "matriz = [ \n",
    "    [1, 5, 1],\n",
    "    [2, 1, 2],\n",
    "    [3, 0, 1],\n",
    "    [1, 4, 4]\n",
    "]\n",
    "#Opción 1.\n",
    "matriz[0] += [sum(matriz[0])]\n",
    "matriz[1] += [sum(matriz[1])]\n",
    "matriz[2] += [sum(matriz[2])]\n",
    "matriz[3] += [sum(matriz[3])]\n",
    "\n",
    "#Opción 2.\n",
    "\n",
    "matriz[0].append(sum(matriz[0]))\n",
    "matriz[1].append(sum(matriz[1]))\n",
    "matriz[2].append(sum(matriz[2]))\n",
    "matriz[3].append(sum(matriz[3]))\n",
    "\n",
    "print(matriz)"
   ]
  },
  {
   "cell_type": "code",
   "execution_count": null,
   "metadata": {},
   "outputs": [],
   "source": []
  }
 ],
 "metadata": {
  "kernelspec": {
   "display_name": "Python 3 (ipykernel)",
   "language": "python",
   "name": "python3"
  },
  "language_info": {
   "codemirror_mode": {
    "name": "ipython",
    "version": 3
   },
   "file_extension": ".py",
   "mimetype": "text/x-python",
   "name": "python",
   "nbconvert_exporter": "python",
   "pygments_lexer": "ipython3",
   "version": "3.12.1"
  }
 },
 "nbformat": 4,
 "nbformat_minor": 2
}
