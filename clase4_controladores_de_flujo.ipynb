{
 "cells": [
  {
   "cell_type": "code",
   "execution_count": 1,
   "metadata": {},
   "outputs": [],
   "source": [
    "#devuelve error\n",
    "mi_variable = False \n",
    "#assert mi_variable"
   ]
  },
  {
   "cell_type": "code",
   "execution_count": 2,
   "metadata": {},
   "outputs": [
    {
     "name": "stdout",
     "output_type": "stream",
     "text": [
      "****************************************\n"
     ]
    }
   ],
   "source": [
    "print(\"*\" *40)\n"
   ]
  },
  {
   "cell_type": "code",
   "execution_count": 3,
   "metadata": {},
   "outputs": [],
   "source": [
    "#no devuelve nada\n",
    "mi_variable = True\n",
    "assert mi_variable"
   ]
  },
  {
   "cell_type": "code",
   "execution_count": 4,
   "metadata": {},
   "outputs": [],
   "source": [
    "mi_numero = 5\n",
    "mi_variable = mi_numero >4\n",
    "assert mi_variable"
   ]
  },
  {
   "cell_type": "code",
   "execution_count": 5,
   "metadata": {},
   "outputs": [
    {
     "name": "stdout",
     "output_type": "stream",
     "text": [
      "************************************************************\n"
     ]
    }
   ],
   "source": [
    "print(\"*\"*60)"
   ]
  },
  {
   "cell_type": "code",
   "execution_count": 6,
   "metadata": {},
   "outputs": [],
   "source": [
    "nombre = \"Fernando\" \n",
    "edad = 31"
   ]
  },
  {
   "cell_type": "code",
   "execution_count": 7,
   "metadata": {},
   "outputs": [],
   "source": [
    "cond_1 = nombre != \"****\"\n",
    "cond_2 = edad > 10 and edad < 18\n",
    "cond_3 = len(nombre) >= 3 and len(nombre)< 10\n",
    "cond_4 = edad * 4 > 40"
   ]
  },
  {
   "cell_type": "code",
   "execution_count": 8,
   "metadata": {},
   "outputs": [
    {
     "name": "stdout",
     "output_type": "stream",
     "text": [
      "cond 1: True\n",
      "cond 1: False\n",
      "cond 1: True\n",
      "cond 1: True\n"
     ]
    }
   ],
   "source": [
    "mi_variable = cond_1 and cond_2 and cond_3 and cond_4\n",
    "print(\"cond 1: \" + str(cond_1))\n",
    "print(\"cond 1: \" + str(cond_2))\n",
    "print(\"cond 1: \" + str(cond_3))\n",
    "print(\"cond 1: \" + str(cond_4))"
   ]
  },
  {
   "cell_type": "code",
   "execution_count": 9,
   "metadata": {},
   "outputs": [
    {
     "name": "stdout",
     "output_type": "stream",
     "text": [
      "Mi variable es: False\n"
     ]
    }
   ],
   "source": [
    "print(\"Mi variable es: \" + str(mi_variable))\n"
   ]
  },
  {
   "cell_type": "code",
   "execution_count": 10,
   "metadata": {},
   "outputs": [
    {
     "name": "stdout",
     "output_type": "stream",
     "text": [
      "************************************************************\n"
     ]
    }
   ],
   "source": [
    "print(\"*\"*60)"
   ]
  },
  {
   "cell_type": "code",
   "execution_count": 11,
   "metadata": {},
   "outputs": [
    {
     "name": "stdout",
     "output_type": "stream",
     "text": [
      "Es mayor\n"
     ]
    }
   ],
   "source": [
    "#else if\n",
    "mi_edad = 19\n",
    "mi_variable = mi_edad >= 18\n",
    "tipo_de_entrada = \"Es mayor\" if mi_variable else \"Es menor\"\n",
    "print(tipo_de_entrada)"
   ]
  },
  {
   "cell_type": "code",
   "execution_count": 12,
   "metadata": {},
   "outputs": [
    {
     "name": "stdout",
     "output_type": "stream",
     "text": [
      "************************************************************\n"
     ]
    }
   ],
   "source": [
    "print(\"*\"*60)"
   ]
  },
  {
   "cell_type": "code",
   "execution_count": 13,
   "metadata": {},
   "outputs": [
    {
     "name": "stdout",
     "output_type": "stream",
     "text": [
      "se cumple\n",
      "imprimo todos los prints de la condicion q se cumple\n"
     ]
    }
   ],
   "source": [
    "if 3 > 2:\n",
    "    print(\"se cumple\")\n",
    "    print(\"imprimo todos los prints de la condicion q se cumple\")\n",
    "else: \n",
    "    print(\"no se cumple\")"
   ]
  },
  {
   "cell_type": "code",
   "execution_count": 15,
   "metadata": {},
   "outputs": [
    {
     "name": "stdout",
     "output_type": "stream",
     "text": [
      "************************************************************\n"
     ]
    }
   ],
   "source": [
    "print(\"*\"*60)    "
   ]
  },
  {
   "cell_type": "code",
   "execution_count": 16,
   "metadata": {},
   "outputs": [
    {
     "name": "stdout",
     "output_type": "stream",
     "text": [
      "no se cumple\n"
     ]
    }
   ],
   "source": [
    "if 1 > 2:\n",
    "    print(\"se cumple\")\n",
    "else: \n",
    "    print(\"no se cumple\")"
   ]
  },
  {
   "cell_type": "code",
   "execution_count": 18,
   "metadata": {},
   "outputs": [
    {
     "name": "stdout",
     "output_type": "stream",
     "text": [
      "************************************************************\n"
     ]
    }
   ],
   "source": [
    "print(\"*\"*60)"
   ]
  },
  {
   "cell_type": "code",
   "execution_count": 20,
   "metadata": {},
   "outputs": [
    {
     "name": "stdout",
     "output_type": "stream",
     "text": [
      "Nivel universitario\n"
     ]
    }
   ],
   "source": [
    "#elif\n",
    "mi_edad = 20\n",
    "\n",
    "if mi_edad <= 6:\n",
    "    print(\"Nivel inicial\")\n",
    "else:\n",
    "    if mi_edad > 5 and mi_edad <=12:\n",
    "        print(\"Nivel primario\")\n",
    "    else:\n",
    "        if mi_edad >12 and mi_edad <=17:\n",
    "            print(\"Nivel secuendario\")\n",
    "        else: \n",
    "            if mi_edad > 17:\n",
    "                    print(\"Nivel universitario\")"
   ]
  },
  {
   "cell_type": "code",
   "execution_count": 21,
   "metadata": {},
   "outputs": [
    {
     "name": "stdout",
     "output_type": "stream",
     "text": [
      "************************************************************\n"
     ]
    }
   ],
   "source": [
    "print(\"*\"*60)   "
   ]
  },
  {
   "cell_type": "code",
   "execution_count": 22,
   "metadata": {},
   "outputs": [
    {
     "name": "stdout",
     "output_type": "stream",
     "text": [
      "Nivel universitario\n"
     ]
    }
   ],
   "source": [
    "if mi_edad <= 18:\n",
    "    print(\"Nivel inicial\")\n",
    "elif mi_edad > 5 and mi_edad <=12:\n",
    "    print(\"Nivel primario\")\n",
    "elif mi_edad >12 and mi_edad <=17:\n",
    "    print(\"Nivel secuendario\")\n",
    "elif mi_edad > 17:\n",
    "    print(\"Nivel universitario\")"
   ]
  },
  {
   "cell_type": "code",
   "execution_count": 23,
   "metadata": {},
   "outputs": [],
   "source": [
    "mi_variable = 20 > 150\n",
    "mi_otra_variable = \"fernando\" == \"fernando\""
   ]
  },
  {
   "cell_type": "code",
   "execution_count": 24,
   "metadata": {},
   "outputs": [
    {
     "name": "stdout",
     "output_type": "stream",
     "text": [
      "mi variable es: False\n",
      "mi otra variable es: True\n"
     ]
    }
   ],
   "source": [
    "#imprimir para saber si es True o False\n",
    "print(\"mi variable es: \" + str(mi_variable))\n",
    "print(\"mi otra variable es: \" + str(mi_otra_variable))"
   ]
  },
  {
   "cell_type": "code",
   "execution_count": 25,
   "metadata": {},
   "outputs": [
    {
     "name": "stdout",
     "output_type": "stream",
     "text": [
      "al menos una no es verdadera\n"
     ]
    }
   ],
   "source": [
    "if mi_variable and mi_otra_variable:\n",
    "    print(\"ambas son verdaderas\")\n",
    "else:\n",
    "    print(\"al menos una no es verdadera\")"
   ]
  },
  {
   "cell_type": "code",
   "execution_count": null,
   "metadata": {},
   "outputs": [],
   "source": []
  }
 ],
 "metadata": {
  "kernelspec": {
   "display_name": "Python 3 (ipykernel)",
   "language": "python",
   "name": "python3"
  },
  "language_info": {
   "codemirror_mode": {
    "name": "ipython",
    "version": 3
   },
   "file_extension": ".py",
   "mimetype": "text/x-python",
   "name": "python",
   "nbconvert_exporter": "python",
   "pygments_lexer": "ipython3",
   "version": "3.12.1"
  }
 },
 "nbformat": 4,
 "nbformat_minor": 2
}
