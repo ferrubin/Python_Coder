{
 "cells": [
  {
   "cell_type": "markdown",
   "metadata": {},
   "source": [
    "#pregunta = input('ingrese su edad: ')\n",
    "\n",
    "#print (type(pregunta))\n",
    "\n",
    "#print (type(int(pregunta)))\n"
   ]
  },
  {
   "cell_type": "code",
   "execution_count": 3,
   "metadata": {},
   "outputs": [
    {
     "name": "stdout",
     "output_type": "stream",
     "text": [
      "<class 'list'>\n",
      "[1, 2, 3, 4]\n"
     ]
    }
   ],
   "source": [
    "mi_lista = [1,2,3,4]\n",
    "print(type(mi_lista))\n",
    "print (mi_lista)"
   ]
  },
  {
   "cell_type": "code",
   "execution_count": 2,
   "metadata": {},
   "outputs": [
    {
     "name": "stdout",
     "output_type": "stream",
     "text": [
      "[5, 6, 7, 8]\n"
     ]
    }
   ],
   "source": [
    "mi_otra_lista = [5,6,7,8]\n",
    "print (mi_otra_lista)"
   ]
  },
  {
   "cell_type": "code",
   "execution_count": 4,
   "metadata": {},
   "outputs": [
    {
     "name": "stdout",
     "output_type": "stream",
     "text": [
      "[1, 2, 3, 4, 5, 6, 7, 8]\n"
     ]
    }
   ],
   "source": [
    "#juntar listas\n",
    "sumar_lista = mi_lista + mi_otra_lista\n",
    "print(sumar_lista)"
   ]
  },
  {
   "cell_type": "code",
   "execution_count": 5,
   "metadata": {},
   "outputs": [
    {
     "name": "stdout",
     "output_type": "stream",
     "text": [
      "1\n",
      "4\n"
     ]
    }
   ],
   "source": [
    "#acceder a la posicion 0 = 1\n",
    "print (mi_lista[0])\n",
    "print (mi_lista[3])"
   ]
  },
  {
   "cell_type": "code",
   "execution_count": 6,
   "metadata": {},
   "outputs": [
    {
     "name": "stdout",
     "output_type": "stream",
     "text": [
      "4\n",
      "4\n"
     ]
    }
   ],
   "source": [
    "#o recuerdo la longitud de mi lista\n",
    "print (len(mi_lista))\n",
    "print (mi_lista[3])"
   ]
  },
  {
   "cell_type": "code",
   "execution_count": 7,
   "metadata": {},
   "outputs": [
    {
     "name": "stdout",
     "output_type": "stream",
     "text": [
      "[1, 2, 3, 44]\n"
     ]
    }
   ],
   "source": [
    "#reemplazar elemento (no se puede en un string)\n",
    "mi_lista[3]=44\n",
    "print(mi_lista)"
   ]
  },
  {
   "cell_type": "code",
   "execution_count": 8,
   "metadata": {},
   "outputs": [
    {
     "name": "stdout",
     "output_type": "stream",
     "text": [
      "[123, 123, 123]\n"
     ]
    }
   ],
   "source": [
    "#repetir listas\n",
    "mi_lista_loca = [123]*3\n",
    "print(mi_lista_loca)"
   ]
  },
  {
   "cell_type": "code",
   "execution_count": 9,
   "metadata": {},
   "outputs": [
    {
     "name": "stdout",
     "output_type": "stream",
     "text": [
      "[9, 7, 5, 9, 7, 5, 9, 7, 5, 9, 7, 5]\n",
      "4\n",
      "0\n"
     ]
    }
   ],
   "source": [
    "mi_lista = [9,7,5]\n",
    "conteo = mi_lista *4\n",
    "print(conteo)\n",
    "contar9=conteo.count(9)\n",
    "print(contar9)\n",
    "contar0=conteo.count(1)\n",
    "print(contar0)"
   ]
  },
  {
   "cell_type": "code",
   "execution_count": 10,
   "metadata": {},
   "outputs": [
    {
     "name": "stdout",
     "output_type": "stream",
     "text": [
      "************************************************************\n"
     ]
    }
   ],
   "source": [
    "print(\"*\"*60)"
   ]
  },
  {
   "cell_type": "code",
   "execution_count": 11,
   "metadata": {},
   "outputs": [
    {
     "name": "stdout",
     "output_type": "stream",
     "text": [
      "3\n"
     ]
    }
   ],
   "source": [
    "#funcion index (devuelve el indice de la posicion q le pasamos y sort (ordena)\n",
    "mi_listita = [4,5,2,45,32]\n",
    "indice_mi_listita= mi_listita.index(45)\n",
    "print(indice_mi_listita)"
   ]
  },
  {
   "cell_type": "code",
   "execution_count": 12,
   "metadata": {},
   "outputs": [
    {
     "name": "stdout",
     "output_type": "stream",
     "text": [
      "[12, 24, 34, 54, 76]\n",
      "[76, 54, 34, 24, 12]\n",
      "[12, 24, 34, 54, 76]\n",
      "[76, 54, 34, 24, 12]\n",
      "None\n"
     ]
    }
   ],
   "source": [
    "mi_lista_a_ordenar = [34,24,54,76,12]\n",
    "mi_lista_a_ordenar.sort()\n",
    "print(mi_lista_a_ordenar)\n",
    "mi_lista_a_ordenar.reverse()\n",
    "print(mi_lista_a_ordenar)\n",
    "#sorted permite guardar en una nueva variable el resultado\n",
    "mi_lista_nueva_ordenada = sorted(mi_lista_a_ordenar)\n",
    "print(mi_lista_nueva_ordenada)\n",
    "print(mi_lista_a_ordenar)\n",
    "#reverse\n",
    "reversa = mi_lista_a_ordenar.reverse()\n",
    "print(reversa)"
   ]
  },
  {
   "cell_type": "code",
   "execution_count": 13,
   "metadata": {},
   "outputs": [
    {
     "name": "stdout",
     "output_type": "stream",
     "text": [
      "************************************************************\n"
     ]
    }
   ],
   "source": [
    "print(\"*\"*60)"
   ]
  },
  {
   "cell_type": "code",
   "execution_count": 14,
   "metadata": {},
   "outputs": [
    {
     "name": "stdout",
     "output_type": "stream",
     "text": [
      "<class 'str'>\n",
      "a\n",
      "a\n",
      "ab\n",
      "bra\n"
     ]
    }
   ],
   "source": [
    "#accceder a un elemento de un strig, en este caso posicion 5 = a\n",
    "mi_string = 'abracabra'\n",
    "print(type(mi_string))\n",
    "print (mi_string[5])\n",
    "#desde atras \n",
    "print(mi_string[-1])\n",
    "#revanada de lista\n",
    "print(mi_string[0:2])\n",
    "#no trae la ultima posicion que se indica\n",
    "rebanada = mi_string[1:4]\n",
    "print(rebanada)"
   ]
  },
  {
   "cell_type": "code",
   "execution_count": 15,
   "metadata": {},
   "outputs": [
    {
     "name": "stdout",
     "output_type": "stream",
     "text": [
      "************************************************************\n"
     ]
    }
   ],
   "source": [
    "print(\"*\"*60)"
   ]
  },
  {
   "cell_type": "code",
   "execution_count": 16,
   "metadata": {},
   "outputs": [
    {
     "name": "stdout",
     "output_type": "stream",
     "text": [
      "<class 'tuple'>\n"
     ]
    }
   ],
   "source": [
    "#tupla tipo de lista q no puede mutar. Se definen entre paréntesis\n",
    "mi_tupla = (1,2,3,4)\n",
    "mi_otra_tupla = (5,6,7,8)\n",
    "print(type(mi_tupla))"
   ]
  },
  {
   "cell_type": "code",
   "execution_count": 17,
   "metadata": {},
   "outputs": [
    {
     "name": "stdout",
     "output_type": "stream",
     "text": [
      "(1, 2, 3, 4, 5, 6, 7, 8)\n",
      "4\n"
     ]
    }
   ],
   "source": [
    "sumar_tuplas = mi_tupla + mi_otra_tupla\n",
    "print(sumar_tuplas)\n",
    "\n",
    "print(len(mi_tupla))"
   ]
  },
  {
   "cell_type": "code",
   "execution_count": 18,
   "metadata": {},
   "outputs": [
    {
     "name": "stdout",
     "output_type": "stream",
     "text": [
      "3\n"
     ]
    }
   ],
   "source": [
    "#Puedo acceder a la posicion 3 que es la posicion 2 pero no modificarla\n",
    "print(mi_tupla[2])"
   ]
  },
  {
   "cell_type": "code",
   "execution_count": 19,
   "metadata": {},
   "outputs": [
    {
     "name": "stdout",
     "output_type": "stream",
     "text": [
      "<class 'list'>\n",
      "[2, 3, 4]\n",
      "3\n"
     ]
    }
   ],
   "source": [
    "mi_lista_mixta = [1,33,\"Juan\",[2,3,4], (\"aa\",\"BB\")]\n",
    "print (type(mi_lista_mixta))\n",
    "#accedemos a la tercera posicion\n",
    "print(mi_lista_mixta[3])\n",
    "#dentro de lo que me trae la tercera poscicion entro al indice 1\n",
    "print(mi_lista_mixta[3][1])"
   ]
  },
  {
   "cell_type": "code",
   "execution_count": 20,
   "metadata": {},
   "outputs": [
    {
     "name": "stdout",
     "output_type": "stream",
     "text": [
      "[2, 3, 4]\n",
      "44\n"
     ]
    }
   ],
   "source": [
    "print(mi_lista_mixta[3])\n",
    "cambio = mi_lista_mixta[3][2]=44\n",
    "print(cambio)"
   ]
  },
  {
   "cell_type": "code",
   "execution_count": 21,
   "metadata": {},
   "outputs": [
    {
     "name": "stdout",
     "output_type": "stream",
     "text": [
      "[22]\n"
     ]
    }
   ],
   "source": [
    "#agregar a la lista\n",
    "mi_lista_a_rellenar = []\n",
    "mi_lista_a_rellenar.append(22)\n",
    "print(mi_lista_a_rellenar)"
   ]
  },
  {
   "cell_type": "code",
   "execution_count": 22,
   "metadata": {},
   "outputs": [
    {
     "name": "stdout",
     "output_type": "stream",
     "text": [
      "7\n",
      "[3, 4, 5, 6]\n"
     ]
    }
   ],
   "source": [
    "#sacar un elemento de la lista con pop\n",
    "aca_mi_lista = [3,4,5,6,7]\n",
    "el_ultimo_de_aca_mi_lista = aca_mi_lista.pop()\n",
    "print(el_ultimo_de_aca_mi_lista)\n",
    "print(aca_mi_lista)"
   ]
  },
  {
   "cell_type": "code",
   "execution_count": 23,
   "metadata": {},
   "outputs": [
    {
     "name": "stdout",
     "output_type": "stream",
     "text": [
      "[1, 3, 1, 6, 6]\n"
     ]
    }
   ],
   "source": [
    "#remove, saca la primera ocurrencia\n",
    "mi_lista= [1,3,1,6,6,6]\n",
    "mi_lista.remove(6)\n",
    "print(mi_lista)"
   ]
  },
  {
   "cell_type": "code",
   "execution_count": 24,
   "metadata": {},
   "outputs": [
    {
     "name": "stdout",
     "output_type": "stream",
     "text": [
      "(1, 2, 3)\n"
     ]
    }
   ],
   "source": [
    "#transformar (casteo) una lista en una tupla, funciona a la inversa tambien\n",
    "mi_lista = [1,2,3]\n",
    "mi_tupla = tuple(mi_lista)\n",
    "print (mi_tupla)"
   ]
  },
  {
   "cell_type": "code",
   "execution_count": 25,
   "metadata": {},
   "outputs": [
    {
     "name": "stdout",
     "output_type": "stream",
     "text": [
      "(1, 2, 3, 1, 2, 3)\n"
     ]
    }
   ],
   "source": [
    "tupla =(1,2,3) \n",
    "print (2*tupla)"
   ]
  }
 ],
 "metadata": {
  "kernelspec": {
   "display_name": "Python 3 (ipykernel)",
   "language": "python",
   "name": "python3"
  },
  "language_info": {
   "codemirror_mode": {
    "name": "ipython",
    "version": 3
   },
   "file_extension": ".py",
   "mimetype": "text/x-python",
   "name": "python",
   "nbconvert_exporter": "python",
   "pygments_lexer": "ipython3",
   "version": "3.12.1"
  }
 },
 "nbformat": 4,
 "nbformat_minor": 2
}
